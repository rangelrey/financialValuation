{
 "cells": [
  {
   "cell_type": "code",
   "execution_count": 154,
   "metadata": {},
   "outputs": [],
   "source": [
    "#official original API connection\n",
    "#https://financialmodelingprep.com/developer/docs/#Company-Financial-Ratios\n",
    "#https://fmpcloud.io/documentation#financialRatios\n",
    "from pprint import pprint\n",
    "import pandas as pd\n",
    "import json\n",
    "from pandas.io.json import json_normalize\n",
    "from io import StringIO\n",
    "\n",
    "try:\n",
    "    # For Python 3.0 and later\n",
    "    from urllib.request import urlopen\n",
    "except ImportError:\n",
    "    # Fall back to Python 2's urllib2\n",
    "    from urllib2 import urlopen\n",
    "\n",
    "\n",
    "apikey = 'e0d7409bfcfa162e155764a86f84d0d2'\n",
    "\n",
    "\n",
    "stocks_list = ['MELI','AMS','AAPL']"
   ]
  },
  {
   "cell_type": "code",
   "execution_count": 155,
   "metadata": {},
   "outputs": [],
   "source": [
    "\n",
    "def getData(report,info,stocks_list):\n",
    "\n",
    "    finalDf = pd.DataFrame()\n",
    "\n",
    "    if report == \"financial-ratios\":   \n",
    "        print(\"\\nDownloading financial ratios \\n\")\n",
    "        for stock in stocks_list:    \n",
    "            print(f'Starting with {stock}')\n",
    "            try:\n",
    "                \n",
    "                webURL =urlopen(f'https://fmpcloud.io/api/v3/{report}/{stock}?period=quarter&apikey={apikey}')\n",
    "                data = webURL.read()\n",
    "\n",
    "                if str(data)!=\"b'{ }'\":         \n",
    "                    encoding = webURL.info().get_content_charset('utf-8')\n",
    "                    data_json = json.loads(data.decode(encoding))\n",
    "  \n",
    "                    df = pd.DataFrame()\n",
    "                    df = json_normalize(data_json[str(info)])\n",
    "                    df[\"symbol\"] = stock \n",
    "                    finalDf = finalDf.append(df)\n",
    "                else:\n",
    "                    print(\"\\nSYMBOL NOT FOUND: Check maybe Stock Symbol: \"+str(stock)+\"\\n\\n\")\n",
    "\n",
    " \n",
    "            except:\n",
    "                print(\"--------------------------\\nCODE ERROR---------------------------------\\n\")\n",
    "            \n",
    "\n",
    "                \n",
    "        \n",
    "        print(\"\\n \\n----- Done -----\")\n",
    "        return finalDf[finalDf.columns[::-1]].set_index(\"date\")\n",
    "\n",
    "\n",
    "    else:\n",
    "        print(\"\\nDownloading financials \\n\")\n",
    "        for stock in stocks_list: \n",
    "            print(f'Starting with {stock}')\n",
    "            webURL = f'https://fmpcloud.io/api/v3/{report}/{stock}?period=quarter&apikey={apikey}'\n",
    "            try:\n",
    "                response = urlopen(webURL)\n",
    "                data = response.read().decode(\"utf-8\")\n",
    "                if data!=\"[ ]\":\n",
    "                    df = json_normalize(json.loads(data))\n",
    "                    finalDf = finalDf.append(df)\n",
    "                else:\n",
    "                    print(\"\\nSYMBOL NOT FOUND: Check maybe Stock Symbol: \"+str(stock)+\"\\n\\n\")\n",
    "\n",
    "            except:\n",
    "                print(\"--------------------------\\nCODE ERROR---------------------------------\\n\")\n",
    "                \n",
    "\n",
    "\n",
    "        print(\"\\n \\n----- Done -----\")\n",
    "        return finalDf.set_index(\"date\")\n",
    "    \n"
   ]
  },
  {
   "cell_type": "code",
   "execution_count": 157,
   "metadata": {},
   "outputs": [
    {
     "name": "stdout",
     "output_type": "stream",
     "text": [
      "\n",
      "Downloading financial ratios \n",
      "\n",
      "Starting with MELI\n"
     ]
    },
    {
     "name": "stderr",
     "output_type": "stream",
     "text": [
      "/home/rangelrey/.local/share/virtualenvs/financialvaluation-p1E6WKqh/lib/python3.6/site-packages/ipykernel_launcher.py:19: FutureWarning: pandas.io.json.json_normalize is deprecated, use pandas.json_normalize instead\n"
     ]
    },
    {
     "name": "stdout",
     "output_type": "stream",
     "text": [
      "Starting with AMS\n",
      "Starting with AAPL\n",
      "\n",
      " \n",
      "----- Done -----\n",
      "\n",
      "Downloading financials \n",
      "\n",
      "Starting with MELI\n"
     ]
    },
    {
     "name": "stderr",
     "output_type": "stream",
     "text": [
      "/home/rangelrey/.local/share/virtualenvs/financialvaluation-p1E6WKqh/lib/python3.6/site-packages/ipykernel_launcher.py:45: FutureWarning: pandas.io.json.json_normalize is deprecated, use pandas.json_normalize instead\n"
     ]
    },
    {
     "name": "stdout",
     "output_type": "stream",
     "text": [
      "Starting with AMS\n",
      "Starting with AAPL\n",
      "\n",
      " \n",
      "----- Done -----\n",
      "\n",
      "Downloading financials \n",
      "\n",
      "Starting with MELI\n",
      "Starting with AMS\n",
      "Starting with AAPL\n",
      "\n",
      " \n",
      "----- Done -----\n",
      "\n",
      "Downloading financials \n",
      "\n",
      "Starting with MELI\n",
      "Starting with AMS\n",
      "Starting with AAPL\n",
      "\n",
      " \n",
      "----- Done -----\n"
     ]
    }
   ],
   "source": [
    "dividend_stock_list = []\n",
    "\n",
    "df_fR =getData(\"financial-ratios\",\"ratios\",dividend_stock_list)\n",
    "\n",
    "df_cF =getData(\"cash-flow-statement\",\"financials\",dividend_stock_list)\n",
    "\n",
    "df_bS =getData(\"balance-sheet-statement\",\"financials\",dividend_stock_list)\n",
    "\n",
    "df_iS =getData(\"income-statement\",\"financials\",dividend_stock_list)"
   ]
  },
  {
   "cell_type": "code",
   "execution_count": null,
   "metadata": {},
   "outputs": [],
   "source": []
  },
  {
   "cell_type": "code",
   "execution_count": null,
   "metadata": {},
   "outputs": [],
   "source": []
  },
  {
   "cell_type": "code",
   "execution_count": null,
   "metadata": {},
   "outputs": [],
   "source": []
  },
  {
   "cell_type": "code",
   "execution_count": 214,
   "metadata": {},
   "outputs": [],
   "source": [
    "import ipywidgets as widgets\n",
    "\n",
    "#https://ipywidgets.readthedocs.io/en/latest/examples/Widget%20Basics.html"
   ]
  },
  {
   "cell_type": "code",
   "execution_count": null,
   "metadata": {},
   "outputs": [],
   "source": []
  },
  {
   "cell_type": "code",
   "execution_count": null,
   "metadata": {},
   "outputs": [],
   "source": [
    "#stocks_list = [\"AAPL\", \"FB\"]\n",
    "\n",
    "#apikey = 'e0d7409bfcfa162e155764a86f84d0d2'\n",
    "\n",
    "\n",
    "#for stock in stocks_list:\n",
    "\n",
    "# webURL = urllib.request.urlopen(f'https://fmpcloud.io/api/v3/ratios-ttm/{stock}?apikey={apikey}')\n",
    "# data = webURL.read()\n",
    "# encoding = webURL.info().get_content_charset('utf-8')\n",
    "# data_json = json.loads(data.decode(encoding))\n",
    "\n",
    "# ratio = data_json[0]\n",
    "\n",
    "\n"
   ]
  },
  {
   "cell_type": "code",
   "execution_count": null,
   "metadata": {},
   "outputs": [],
   "source": [
    "# define columns\n",
    "\n",
    "#mns = [\"date\", \"firm\"]\n",
    "\n",
    "#k,v in dataList[0][\"ratios\"][0].items():\n",
    "#if k !=\"date\":\n",
    "#    for kk in v:\n",
    "#        columns.append(kk)\n",
    "\n",
    "#List = []\n",
    "\n",
    "#firm in dataList:\n",
    "#row=[]\n",
    "#row.append(firm[\"symbol\"])\n",
    "#print(firm[\"symbol\"])\n",
    "#for dateDic in firm[\"ratios\"]:\n",
    "#    print(\" dateDic\")\n",
    "#    row.append(dateDic[\"date\"])\n",
    "#    for group, ratios in dateDic.items():\n",
    "#        if group !=\"date\":\n",
    "#            print(\"  \"+group)\n",
    "#            for ratioName, figure in ratios.items():                   \n",
    "#                print(\"   \" +ratioName+\"    \"+figure)\n",
    "#                row.append(figure)\n",
    "\n",
    "\n",
    "            \n",
    "    #df.append(pd.Series(row,index=df.columns), ignore_index=True)\n",
    "\n",
    "    #firm[\"symbol\"]\n",
    "    #date[\"date\"]\n",
    "\n",
    "    \n",
    "\n",
    "    "
   ]
  }
 ],
 "metadata": {
  "kernelspec": {
   "display_name": "Python 3",
   "language": "python",
   "name": "python3"
  },
  "language_info": {
   "codemirror_mode": {
    "name": "ipython",
    "version": 3
   },
   "file_extension": ".py",
   "mimetype": "text/x-python",
   "name": "python",
   "nbconvert_exporter": "python",
   "pygments_lexer": "ipython3",
   "version": "3.6.9"
  }
 },
 "nbformat": 4,
 "nbformat_minor": 4
}
