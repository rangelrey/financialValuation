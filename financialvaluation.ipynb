{
 "cells": [
  {
   "cell_type": "code",
   "execution_count": 75,
   "metadata": {},
   "outputs": [],
   "source": [
    "#official original API connection\n",
    "#https://financialmodelingprep.com/developer/docs/#Company-Financial-Ratios\n",
    "#https://fmpcloud.io/documentation#financialRatios\n",
    "from pprint import pprint\n",
    "import pandas as pd\n",
    "import json\n",
    "from pandas.io.json import json_normalize\n",
    "from io import StringIO\n",
    "import urllib.request \n",
    "apikey = 'e0d7409bfcfa162e155764a86f84d0d2'\n",
    "\n",
    "#stocks_list = ['AAPL','E3X1','PCE1','ZO1']\n",
    "stocks_list = ['EXPE','AMS','AAPL']"
   ]
  },
  {
   "cell_type": "code",
   "execution_count": 103,
   "metadata": {},
   "outputs": [],
   "source": [
    "\n",
    "\n",
    "def getData(report,info,stocks_list):\n",
    "\n",
    "    finalDf = pd.DataFrame()\n",
    "    for stock in stocks_list:\n",
    "        print(f'Starting with {stock}')\n",
    "        if report == \"financial-ratios\":\n",
    "            webURL = urllib.request.urlopen(f'https://fmpcloud.io/api/v3/{report}/{stock}?period=quarter&apikey={apikey}')\n",
    "            data = webURL.read()\n",
    "            encoding = webURL.info().get_content_charset('utf-8')\n",
    "            data_json = json.loads(data.decode(encoding))\n",
    "            df = pd.DataFrame()\n",
    "            df = json_normalize(data_json[str(info)])\n",
    "            df[\"firm\"] = stock\n",
    "            \n",
    "        elif report ==\"income-statement\":\n",
    "            webURL = f'https://fmpcloud.io/api/v3/{report}/{stock}?period=quarter&apikey={apikey}'\n",
    "\n",
    "            response = urlopen(webURL)\n",
    "            data = response.read().decode(\"utf-8\")\n",
    "            \n",
    "            df = json_normalize(json.loads(data))\n",
    "\n",
    "        #url = (\"https://financialmodelingprep.com/api/v3/financials/income-statement/AAPL\")\n",
    "        #print(get_jsonparsed_data(url))\n",
    "\n",
    "        finalDf = finalDf.append(df)\n",
    "    \n",
    "    \n",
    "    \n",
    "    return finalDf.set_index(\"date\")\n"
   ]
  },
  {
   "cell_type": "code",
   "execution_count": 104,
   "metadata": {},
   "outputs": [
    {
     "name": "stdout",
     "output_type": "stream",
     "text": [
      "Starting with EXPE\n"
     ]
    },
    {
     "name": "stderr",
     "output_type": "stream",
     "text": [
      "/home/rangelrey/.local/share/virtualenvs/financialvaluation-p1E6WKqh/lib/python3.6/site-packages/ipykernel_launcher.py:21: FutureWarning: pandas.io.json.json_normalize is deprecated, use pandas.json_normalize instead\n"
     ]
    },
    {
     "name": "stdout",
     "output_type": "stream",
     "text": [
      "Starting with AMS\n",
      "Starting with AAPL\n"
     ]
    }
   ],
   "source": [
    "df =getData(\"income-statement\",\"financials\",stocks_list)\n",
    "\n"
   ]
  },
  {
   "cell_type": "code",
   "execution_count": 94,
   "metadata": {},
   "outputs": [
    {
     "name": "stdout",
     "output_type": "stream",
     "text": [
      "Starting with EXPE\n"
     ]
    },
    {
     "name": "stderr",
     "output_type": "stream",
     "text": [
      "/home/rangelrey/.local/share/virtualenvs/financialvaluation-p1E6WKqh/lib/python3.6/site-packages/ipykernel_launcher.py:12: FutureWarning: pandas.io.json.json_normalize is deprecated, use pandas.json_normalize instead\n",
      "  if sys.path[0] == '':\n"
     ]
    },
    {
     "name": "stdout",
     "output_type": "stream",
     "text": [
      "Starting with AMS\n",
      "Starting with AAPL\n"
     ]
    }
   ],
   "source": [
    "df =getData(\"financial-ratios\",\"ratios\",stocks_list)"
   ]
  },
  {
   "cell_type": "code",
   "execution_count": null,
   "metadata": {},
   "outputs": [],
   "source": []
  },
  {
   "cell_type": "code",
   "execution_count": null,
   "metadata": {},
   "outputs": [],
   "source": []
  },
  {
   "cell_type": "code",
   "execution_count": null,
   "metadata": {},
   "outputs": [],
   "source": []
  },
  {
   "cell_type": "code",
   "execution_count": null,
   "metadata": {},
   "outputs": [],
   "source": []
  },
  {
   "cell_type": "code",
   "execution_count": null,
   "metadata": {},
   "outputs": [],
   "source": []
  },
  {
   "cell_type": "code",
   "execution_count": 214,
   "metadata": {},
   "outputs": [],
   "source": [
    "import ipywidgets as widgets\n",
    "\n",
    "#https://ipywidgets.readthedocs.io/en/latest/examples/Widget%20Basics.html"
   ]
  },
  {
   "cell_type": "code",
   "execution_count": null,
   "metadata": {},
   "outputs": [],
   "source": []
  },
  {
   "cell_type": "code",
   "execution_count": null,
   "metadata": {},
   "outputs": [],
   "source": [
    "#stocks_list = [\"AAPL\", \"FB\"]\n",
    "\n",
    "#apikey = 'e0d7409bfcfa162e155764a86f84d0d2'\n",
    "\n",
    "\n",
    "#for stock in stocks_list:\n",
    "\n",
    "# webURL = urllib.request.urlopen(f'https://fmpcloud.io/api/v3/ratios-ttm/{stock}?apikey={apikey}')\n",
    "# data = webURL.read()\n",
    "# encoding = webURL.info().get_content_charset('utf-8')\n",
    "# data_json = json.loads(data.decode(encoding))\n",
    "\n",
    "# ratio = data_json[0]\n",
    "\n",
    "\n"
   ]
  },
  {
   "cell_type": "code",
   "execution_count": null,
   "metadata": {},
   "outputs": [],
   "source": [
    "# define columns\n",
    "\n",
    "#mns = [\"date\", \"firm\"]\n",
    "\n",
    "#k,v in dataList[0][\"ratios\"][0].items():\n",
    "#if k !=\"date\":\n",
    "#    for kk in v:\n",
    "#        columns.append(kk)\n",
    "\n",
    "#List = []\n",
    "\n",
    "#firm in dataList:\n",
    "#row=[]\n",
    "#row.append(firm[\"symbol\"])\n",
    "#print(firm[\"symbol\"])\n",
    "#for dateDic in firm[\"ratios\"]:\n",
    "#    print(\" dateDic\")\n",
    "#    row.append(dateDic[\"date\"])\n",
    "#    for group, ratios in dateDic.items():\n",
    "#        if group !=\"date\":\n",
    "#            print(\"  \"+group)\n",
    "#            for ratioName, figure in ratios.items():                   \n",
    "#                print(\"   \" +ratioName+\"    \"+figure)\n",
    "#                row.append(figure)\n",
    "\n",
    "\n",
    "            \n",
    "    #df.append(pd.Series(row,index=df.columns), ignore_index=True)\n",
    "\n",
    "    #firm[\"symbol\"]\n",
    "    #date[\"date\"]\n",
    "\n",
    "    \n",
    "\n",
    "    "
   ]
  }
 ],
 "metadata": {
  "kernelspec": {
   "display_name": "Python 3",
   "language": "python",
   "name": "python3"
  },
  "language_info": {
   "codemirror_mode": {
    "name": "ipython",
    "version": 3
   },
   "file_extension": ".py",
   "mimetype": "text/x-python",
   "name": "python",
   "nbconvert_exporter": "python",
   "pygments_lexer": "ipython3",
   "version": "3.6.9"
  }
 },
 "nbformat": 4,
 "nbformat_minor": 4
}
